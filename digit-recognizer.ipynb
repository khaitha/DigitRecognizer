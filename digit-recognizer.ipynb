{
 "cells": [
  {
   "cell_type": "code",
   "execution_count": 1,
   "id": "8b880e0e",
   "metadata": {
    "_cell_guid": "b1076dfc-b9ad-4769-8c92-a6c4dae69d19",
    "_uuid": "8f2839f25d086af736a60e9eeb907d3b93b6e0e5",
    "execution": {
     "iopub.execute_input": "2024-04-23T15:58:57.313378Z",
     "iopub.status.busy": "2024-04-23T15:58:57.312600Z",
     "iopub.status.idle": "2024-04-23T15:58:58.191353Z",
     "shell.execute_reply": "2024-04-23T15:58:58.190437Z"
    },
    "papermill": {
     "duration": 0.889552,
     "end_time": "2024-04-23T15:58:58.193715",
     "exception": false,
     "start_time": "2024-04-23T15:58:57.304163",
     "status": "completed"
    },
    "tags": []
   },
   "outputs": [
    {
     "name": "stdout",
     "output_type": "stream",
     "text": [
      "/kaggle/input/digit-recognizer/sample_submission.csv\n",
      "/kaggle/input/digit-recognizer/train.csv\n",
      "/kaggle/input/digit-recognizer/test.csv\n"
     ]
    }
   ],
   "source": [
    "# This Python 3 environment comes with many helpful analytics libraries installed\n",
    "# It is defined by the kaggle/python Docker image: https://github.com/kaggle/docker-python\n",
    "# For example, here's several helpful packages to load\n",
    "\n",
    "import numpy as np # linear algebra\n",
    "import pandas as pd # data processing, CSV file I/O (e.g. pd.read_csv)\n",
    "\n",
    "# Input data files are available in the read-only \"../input/\" directory\n",
    "# For example, running this (by clicking run or pressing Shift+Enter) will list all files under the input directory\n",
    "\n",
    "import os\n",
    "for dirname, _, filenames in os.walk('/kaggle/input'):\n",
    "    for filename in filenames:\n",
    "        print(os.path.join(dirname, filename))\n",
    "\n",
    "# You can write up to 20GB to the current directory (/kaggle/working/) that gets preserved as output when you create a version using \"Save & Run All\" \n",
    "# You can also write temporary files to /kaggle/temp/, but they won't be saved outside of the current session"
   ]
  },
  {
   "cell_type": "code",
   "execution_count": 2,
   "id": "56184892",
   "metadata": {
    "execution": {
     "iopub.execute_input": "2024-04-23T15:58:58.208389Z",
     "iopub.status.busy": "2024-04-23T15:58:58.208027Z",
     "iopub.status.idle": "2024-04-23T15:59:13.297144Z",
     "shell.execute_reply": "2024-04-23T15:59:13.296144Z"
    },
    "papermill": {
     "duration": 15.099092,
     "end_time": "2024-04-23T15:59:13.299515",
     "exception": false,
     "start_time": "2024-04-23T15:58:58.200423",
     "status": "completed"
    },
    "tags": []
   },
   "outputs": [
    {
     "name": "stderr",
     "output_type": "stream",
     "text": [
      "2024-04-23 15:59:02.351785: E external/local_xla/xla/stream_executor/cuda/cuda_dnn.cc:9261] Unable to register cuDNN factory: Attempting to register factory for plugin cuDNN when one has already been registered\n",
      "2024-04-23 15:59:02.351888: E external/local_xla/xla/stream_executor/cuda/cuda_fft.cc:607] Unable to register cuFFT factory: Attempting to register factory for plugin cuFFT when one has already been registered\n",
      "2024-04-23 15:59:02.536327: E external/local_xla/xla/stream_executor/cuda/cuda_blas.cc:1515] Unable to register cuBLAS factory: Attempting to register factory for plugin cuBLAS when one has already been registered\n"
     ]
    }
   ],
   "source": [
    "import pandas as pd\n",
    "import numpy as np\n",
    "import matplotlib.pyplot as plt\n",
    "import matplotlib.image as mpimg\n",
    "import seaborn as sns\n",
    "%matplotlib inline\n",
    "np.random.seed(2)\n",
    "\n",
    "from sklearn.model_selection import train_test_split\n",
    "from sklearn.metrics import confusion_matrix\n",
    "import itertools\n",
    "\n",
    "from keras.utils import to_categorical\n",
    "from keras.models import Sequential\n",
    "from keras.layers import Dense, Dropout, Flatten, Conv2D, MaxPool2D\n",
    "from keras.optimizers import RMSprop\n",
    "from tensorflow.keras.preprocessing.image import ImageDataGenerator\n",
    "from keras.callbacks import ReduceLROnPlateau"
   ]
  },
  {
   "cell_type": "code",
   "execution_count": 3,
   "id": "27f27330",
   "metadata": {
    "execution": {
     "iopub.execute_input": "2024-04-23T15:59:13.313923Z",
     "iopub.status.busy": "2024-04-23T15:59:13.313378Z",
     "iopub.status.idle": "2024-04-23T15:59:19.580885Z",
     "shell.execute_reply": "2024-04-23T15:59:19.580083Z"
    },
    "papermill": {
     "duration": 6.277131,
     "end_time": "2024-04-23T15:59:19.583305",
     "exception": false,
     "start_time": "2024-04-23T15:59:13.306174",
     "status": "completed"
    },
    "tags": []
   },
   "outputs": [],
   "source": [
    "test = pd.read_csv('/kaggle/input/digit-recognizer/test.csv')\n",
    "train = pd.read_csv('/kaggle/input/digit-recognizer/train.csv')"
   ]
  },
  {
   "cell_type": "code",
   "execution_count": 4,
   "id": "18ccbf5a",
   "metadata": {
    "execution": {
     "iopub.execute_input": "2024-04-23T15:59:19.598277Z",
     "iopub.status.busy": "2024-04-23T15:59:19.597569Z",
     "iopub.status.idle": "2024-04-23T15:59:19.602104Z",
     "shell.execute_reply": "2024-04-23T15:59:19.601241Z"
    },
    "papermill": {
     "duration": 0.014228,
     "end_time": "2024-04-23T15:59:19.604204",
     "exception": false,
     "start_time": "2024-04-23T15:59:19.589976",
     "status": "completed"
    },
    "tags": []
   },
   "outputs": [
    {
     "name": "stdout",
     "output_type": "stream",
     "text": [
      "(42000, 785)\n",
      "(28000, 784)\n"
     ]
    }
   ],
   "source": [
    "print(train.shape)\n",
    "print(test.shape)"
   ]
  },
  {
   "cell_type": "code",
   "execution_count": 5,
   "id": "9ea410a9",
   "metadata": {
    "execution": {
     "iopub.execute_input": "2024-04-23T15:59:19.618042Z",
     "iopub.status.busy": "2024-04-23T15:59:19.617774Z",
     "iopub.status.idle": "2024-04-23T15:59:19.640252Z",
     "shell.execute_reply": "2024-04-23T15:59:19.639395Z"
    },
    "papermill": {
     "duration": 0.031699,
     "end_time": "2024-04-23T15:59:19.642231",
     "exception": false,
     "start_time": "2024-04-23T15:59:19.610532",
     "status": "completed"
    },
    "tags": []
   },
   "outputs": [
    {
     "data": {
      "text/html": [
       "<div>\n",
       "<style scoped>\n",
       "    .dataframe tbody tr th:only-of-type {\n",
       "        vertical-align: middle;\n",
       "    }\n",
       "\n",
       "    .dataframe tbody tr th {\n",
       "        vertical-align: top;\n",
       "    }\n",
       "\n",
       "    .dataframe thead th {\n",
       "        text-align: right;\n",
       "    }\n",
       "</style>\n",
       "<table border=\"1\" class=\"dataframe\">\n",
       "  <thead>\n",
       "    <tr style=\"text-align: right;\">\n",
       "      <th></th>\n",
       "      <th>label</th>\n",
       "      <th>pixel0</th>\n",
       "      <th>pixel1</th>\n",
       "      <th>pixel2</th>\n",
       "      <th>pixel3</th>\n",
       "      <th>pixel4</th>\n",
       "      <th>pixel5</th>\n",
       "      <th>pixel6</th>\n",
       "      <th>pixel7</th>\n",
       "      <th>pixel8</th>\n",
       "      <th>...</th>\n",
       "      <th>pixel774</th>\n",
       "      <th>pixel775</th>\n",
       "      <th>pixel776</th>\n",
       "      <th>pixel777</th>\n",
       "      <th>pixel778</th>\n",
       "      <th>pixel779</th>\n",
       "      <th>pixel780</th>\n",
       "      <th>pixel781</th>\n",
       "      <th>pixel782</th>\n",
       "      <th>pixel783</th>\n",
       "    </tr>\n",
       "  </thead>\n",
       "  <tbody>\n",
       "    <tr>\n",
       "      <th>0</th>\n",
       "      <td>1</td>\n",
       "      <td>0</td>\n",
       "      <td>0</td>\n",
       "      <td>0</td>\n",
       "      <td>0</td>\n",
       "      <td>0</td>\n",
       "      <td>0</td>\n",
       "      <td>0</td>\n",
       "      <td>0</td>\n",
       "      <td>0</td>\n",
       "      <td>...</td>\n",
       "      <td>0</td>\n",
       "      <td>0</td>\n",
       "      <td>0</td>\n",
       "      <td>0</td>\n",
       "      <td>0</td>\n",
       "      <td>0</td>\n",
       "      <td>0</td>\n",
       "      <td>0</td>\n",
       "      <td>0</td>\n",
       "      <td>0</td>\n",
       "    </tr>\n",
       "    <tr>\n",
       "      <th>1</th>\n",
       "      <td>0</td>\n",
       "      <td>0</td>\n",
       "      <td>0</td>\n",
       "      <td>0</td>\n",
       "      <td>0</td>\n",
       "      <td>0</td>\n",
       "      <td>0</td>\n",
       "      <td>0</td>\n",
       "      <td>0</td>\n",
       "      <td>0</td>\n",
       "      <td>...</td>\n",
       "      <td>0</td>\n",
       "      <td>0</td>\n",
       "      <td>0</td>\n",
       "      <td>0</td>\n",
       "      <td>0</td>\n",
       "      <td>0</td>\n",
       "      <td>0</td>\n",
       "      <td>0</td>\n",
       "      <td>0</td>\n",
       "      <td>0</td>\n",
       "    </tr>\n",
       "    <tr>\n",
       "      <th>2</th>\n",
       "      <td>1</td>\n",
       "      <td>0</td>\n",
       "      <td>0</td>\n",
       "      <td>0</td>\n",
       "      <td>0</td>\n",
       "      <td>0</td>\n",
       "      <td>0</td>\n",
       "      <td>0</td>\n",
       "      <td>0</td>\n",
       "      <td>0</td>\n",
       "      <td>...</td>\n",
       "      <td>0</td>\n",
       "      <td>0</td>\n",
       "      <td>0</td>\n",
       "      <td>0</td>\n",
       "      <td>0</td>\n",
       "      <td>0</td>\n",
       "      <td>0</td>\n",
       "      <td>0</td>\n",
       "      <td>0</td>\n",
       "      <td>0</td>\n",
       "    </tr>\n",
       "    <tr>\n",
       "      <th>3</th>\n",
       "      <td>4</td>\n",
       "      <td>0</td>\n",
       "      <td>0</td>\n",
       "      <td>0</td>\n",
       "      <td>0</td>\n",
       "      <td>0</td>\n",
       "      <td>0</td>\n",
       "      <td>0</td>\n",
       "      <td>0</td>\n",
       "      <td>0</td>\n",
       "      <td>...</td>\n",
       "      <td>0</td>\n",
       "      <td>0</td>\n",
       "      <td>0</td>\n",
       "      <td>0</td>\n",
       "      <td>0</td>\n",
       "      <td>0</td>\n",
       "      <td>0</td>\n",
       "      <td>0</td>\n",
       "      <td>0</td>\n",
       "      <td>0</td>\n",
       "    </tr>\n",
       "    <tr>\n",
       "      <th>4</th>\n",
       "      <td>0</td>\n",
       "      <td>0</td>\n",
       "      <td>0</td>\n",
       "      <td>0</td>\n",
       "      <td>0</td>\n",
       "      <td>0</td>\n",
       "      <td>0</td>\n",
       "      <td>0</td>\n",
       "      <td>0</td>\n",
       "      <td>0</td>\n",
       "      <td>...</td>\n",
       "      <td>0</td>\n",
       "      <td>0</td>\n",
       "      <td>0</td>\n",
       "      <td>0</td>\n",
       "      <td>0</td>\n",
       "      <td>0</td>\n",
       "      <td>0</td>\n",
       "      <td>0</td>\n",
       "      <td>0</td>\n",
       "      <td>0</td>\n",
       "    </tr>\n",
       "  </tbody>\n",
       "</table>\n",
       "<p>5 rows × 785 columns</p>\n",
       "</div>"
      ],
      "text/plain": [
       "   label  pixel0  pixel1  pixel2  pixel3  pixel4  pixel5  pixel6  pixel7  \\\n",
       "0      1       0       0       0       0       0       0       0       0   \n",
       "1      0       0       0       0       0       0       0       0       0   \n",
       "2      1       0       0       0       0       0       0       0       0   \n",
       "3      4       0       0       0       0       0       0       0       0   \n",
       "4      0       0       0       0       0       0       0       0       0   \n",
       "\n",
       "   pixel8  ...  pixel774  pixel775  pixel776  pixel777  pixel778  pixel779  \\\n",
       "0       0  ...         0         0         0         0         0         0   \n",
       "1       0  ...         0         0         0         0         0         0   \n",
       "2       0  ...         0         0         0         0         0         0   \n",
       "3       0  ...         0         0         0         0         0         0   \n",
       "4       0  ...         0         0         0         0         0         0   \n",
       "\n",
       "   pixel780  pixel781  pixel782  pixel783  \n",
       "0         0         0         0         0  \n",
       "1         0         0         0         0  \n",
       "2         0         0         0         0  \n",
       "3         0         0         0         0  \n",
       "4         0         0         0         0  \n",
       "\n",
       "[5 rows x 785 columns]"
      ]
     },
     "execution_count": 5,
     "metadata": {},
     "output_type": "execute_result"
    }
   ],
   "source": [
    "train.head(5)"
   ]
  },
  {
   "cell_type": "code",
   "execution_count": 6,
   "id": "c62c5c1f",
   "metadata": {
    "execution": {
     "iopub.execute_input": "2024-04-23T15:59:19.657753Z",
     "iopub.status.busy": "2024-04-23T15:59:19.657431Z",
     "iopub.status.idle": "2024-04-23T15:59:19.743731Z",
     "shell.execute_reply": "2024-04-23T15:59:19.742817Z"
    },
    "papermill": {
     "duration": 0.096561,
     "end_time": "2024-04-23T15:59:19.746161",
     "exception": false,
     "start_time": "2024-04-23T15:59:19.649600",
     "status": "completed"
    },
    "tags": []
   },
   "outputs": [],
   "source": [
    "Y_train = train['label']\n",
    "X_train = train.drop(labels = ['label'], axis=1)\n"
   ]
  },
  {
   "cell_type": "code",
   "execution_count": 7,
   "id": "f9cce84b",
   "metadata": {
    "execution": {
     "iopub.execute_input": "2024-04-23T15:59:19.763022Z",
     "iopub.status.busy": "2024-04-23T15:59:19.762277Z",
     "iopub.status.idle": "2024-04-23T15:59:20.042902Z",
     "shell.execute_reply": "2024-04-23T15:59:20.042025Z"
    },
    "papermill": {
     "duration": 0.290965,
     "end_time": "2024-04-23T15:59:20.044855",
     "exception": false,
     "start_time": "2024-04-23T15:59:19.753890",
     "status": "completed"
    },
    "tags": []
   },
   "outputs": [
    {
     "data": {
      "text/plain": [
       "<matplotlib.image.AxesImage at 0x7a30f898a770>"
      ]
     },
     "execution_count": 7,
     "metadata": {},
     "output_type": "execute_result"
    },
    {
     "data": {
      "image/png": "[encoded data removed]",
      "text/plain": [
       "<Figure size 640x480 with 1 Axes>"
      ]
     },
     "metadata": {},
     "output_type": "display_data"
    }
   ],
   "source": [
    "sample1 = np.reshape(X_train.iloc[1,:].values, (28,28))\n",
    "plt.imshow(sample1)"
   ]
  },
  {
   "cell_type": "markdown",
   "id": "10447757",
   "metadata": {
    "execution": {
     "iopub.execute_input": "2024-04-04T00:02:43.380626Z",
     "iopub.status.busy": "2024-04-04T00:02:43.380246Z",
     "iopub.status.idle": "2024-04-04T00:02:43.387065Z",
     "shell.execute_reply": "2024-04-04T00:02:43.385689Z",
     "shell.execute_reply.started": "2024-04-04T00:02:43.380597Z"
    },
    "papermill": {
     "duration": 0.007874,
     "end_time": "2024-04-23T15:59:20.060011",
     "exception": false,
     "start_time": "2024-04-23T15:59:20.052137",
     "status": "completed"
    },
    "tags": []
   },
   "source": [
    "**Preprocess the data**"
   ]
  },
  {
   "cell_type": "code",
   "execution_count": 8,
   "id": "356d045e",
   "metadata": {
    "execution": {
     "iopub.execute_input": "2024-04-23T15:59:20.074979Z",
     "iopub.status.busy": "2024-04-23T15:59:20.074686Z",
     "iopub.status.idle": "2024-04-23T15:59:20.164260Z",
     "shell.execute_reply": "2024-04-23T15:59:20.163366Z"
    },
    "papermill": {
     "duration": 0.099741,
     "end_time": "2024-04-23T15:59:20.166646",
     "exception": false,
     "start_time": "2024-04-23T15:59:20.066905",
     "status": "completed"
    },
    "tags": []
   },
   "outputs": [],
   "source": [
    "X_train = X_train / 255.0\n",
    "test = test/ 255.0"
   ]
  },
  {
   "cell_type": "code",
   "execution_count": 9,
   "id": "fd89e38a",
   "metadata": {
    "execution": {
     "iopub.execute_input": "2024-04-23T15:59:20.183299Z",
     "iopub.status.busy": "2024-04-23T15:59:20.182535Z",
     "iopub.status.idle": "2024-04-23T15:59:20.188387Z",
     "shell.execute_reply": "2024-04-23T15:59:20.187480Z"
    },
    "papermill": {
     "duration": 0.016062,
     "end_time": "2024-04-23T15:59:20.190351",
     "exception": false,
     "start_time": "2024-04-23T15:59:20.174289",
     "status": "completed"
    },
    "tags": []
   },
   "outputs": [
    {
     "data": {
      "text/plain": [
       "(42000, 784)"
      ]
     },
     "execution_count": 9,
     "metadata": {},
     "output_type": "execute_result"
    }
   ],
   "source": [
    "X_train.shape"
   ]
  },
  {
   "cell_type": "code",
   "execution_count": 10,
   "id": "24e6423d",
   "metadata": {
    "execution": {
     "iopub.execute_input": "2024-04-23T15:59:20.206266Z",
     "iopub.status.busy": "2024-04-23T15:59:20.205996Z",
     "iopub.status.idle": "2024-04-23T15:59:20.210317Z",
     "shell.execute_reply": "2024-04-23T15:59:20.209545Z"
    },
    "papermill": {
     "duration": 0.014544,
     "end_time": "2024-04-23T15:59:20.212309",
     "exception": false,
     "start_time": "2024-04-23T15:59:20.197765",
     "status": "completed"
    },
    "tags": []
   },
   "outputs": [],
   "source": [
    "X_train = X_train.values.reshape(-1,28,28,1)\n",
    "test = test.values.reshape(-1,28,28,1)"
   ]
  },
  {
   "cell_type": "code",
   "execution_count": 11,
   "id": "b708fb45",
   "metadata": {
    "execution": {
     "iopub.execute_input": "2024-04-23T15:59:20.228876Z",
     "iopub.status.busy": "2024-04-23T15:59:20.228374Z",
     "iopub.status.idle": "2024-04-23T15:59:20.233566Z",
     "shell.execute_reply": "2024-04-23T15:59:20.232802Z"
    },
    "papermill": {
     "duration": 0.016594,
     "end_time": "2024-04-23T15:59:20.236290",
     "exception": false,
     "start_time": "2024-04-23T15:59:20.219696",
     "status": "completed"
    },
    "tags": []
   },
   "outputs": [],
   "source": [
    "Y_train = to_categorical(Y_train, num_classes = 10)"
   ]
  },
  {
   "cell_type": "code",
   "execution_count": 12,
   "id": "d3729500",
   "metadata": {
    "execution": {
     "iopub.execute_input": "2024-04-23T15:59:20.252670Z",
     "iopub.status.busy": "2024-04-23T15:59:20.252375Z",
     "iopub.status.idle": "2024-04-23T15:59:20.644888Z",
     "shell.execute_reply": "2024-04-23T15:59:20.644051Z"
    },
    "papermill": {
     "duration": 0.403447,
     "end_time": "2024-04-23T15:59:20.647401",
     "exception": false,
     "start_time": "2024-04-23T15:59:20.243954",
     "status": "completed"
    },
    "tags": []
   },
   "outputs": [],
   "source": [
    "X_train, X_val, Y_train, Y_val, = train_test_split(X_train, Y_train, test_size = .1, random_state=2)"
   ]
  },
  {
   "cell_type": "code",
   "execution_count": 13,
   "id": "967c4057",
   "metadata": {
    "execution": {
     "iopub.execute_input": "2024-04-23T15:59:20.664276Z",
     "iopub.status.busy": "2024-04-23T15:59:20.663969Z",
     "iopub.status.idle": "2024-04-23T15:59:20.931836Z",
     "shell.execute_reply": "2024-04-23T15:59:20.930818Z"
    },
    "papermill": {
     "duration": 0.278471,
     "end_time": "2024-04-23T15:59:20.933940",
     "exception": false,
     "start_time": "2024-04-23T15:59:20.655469",
     "status": "completed"
    },
    "tags": []
   },
   "outputs": [
    {
     "data": {
      "image/png": "[encoded data removed]",
      "text/plain": [
       "<Figure size 640x480 with 1 Axes>"
      ]
     },
     "metadata": {},
     "output_type": "display_data"
    }
   ],
   "source": [
    "g = plt.imshow(X_train[1][:,:,0])"
   ]
  },
  {
   "cell_type": "code",
   "execution_count": 14,
   "id": "cbb8ca68",
   "metadata": {
    "execution": {
     "iopub.execute_input": "2024-04-23T15:59:20.951344Z",
     "iopub.status.busy": "2024-04-23T15:59:20.950622Z",
     "iopub.status.idle": "2024-04-23T15:59:21.951564Z",
     "shell.execute_reply": "2024-04-23T15:59:21.950769Z"
    },
    "papermill": {
     "duration": 1.011878,
     "end_time": "2024-04-23T15:59:21.953771",
     "exception": false,
     "start_time": "2024-04-23T15:59:20.941893",
     "status": "completed"
    },
    "tags": []
   },
   "outputs": [
    {
     "name": "stderr",
     "output_type": "stream",
     "text": [
      "/opt/conda/lib/python3.10/site-packages/keras/src/layers/convolutional/base_conv.py:99: UserWarning: Do not pass an `input_shape`/`input_dim` argument to a layer. When using Sequential models, prefer using an `Input(shape)` object as the first layer in the model instead.\n",
      "  super().__init__(\n"
     ]
    }
   ],
   "source": [
    "model = Sequential()\n",
    "model.add(Conv2D(filters = 32, kernel_size = (5,5), padding = 'Same', activation = 'relu', input_shape = (28,28,1)))\n",
    "model.add(Conv2D(filters = 32, kernel_size = (5,5), padding = 'Same', activation = 'relu'))\n",
    "model.add(MaxPool2D(pool_size=(2,2)))\n",
    "model.add(Dropout(0.25))\n",
    "\n",
    "model.add(Conv2D(filters = 64, kernel_size = (3,3),padding = 'Same', activation ='relu'))\n",
    "model.add(Conv2D(filters = 64, kernel_size = (3,3),padding = 'Same', activation ='relu'))\n",
    "model.add(MaxPool2D(pool_size=(2,2)))\n",
    "model.add(Dropout(0.25))\n",
    "\n",
    "model.add(Flatten())\n",
    "model.add(Dense(256, activation = 'relu'))\n",
    "model.add(Dropout(.5))\n",
    "model.add(Dense(10, activation = 'softmax'))"
   ]
  },
  {
   "cell_type": "code",
   "execution_count": 15,
   "id": "d2be1be2",
   "metadata": {
    "execution": {
     "iopub.execute_input": "2024-04-23T15:59:21.970564Z",
     "iopub.status.busy": "2024-04-23T15:59:21.970286Z",
     "iopub.status.idle": "2024-04-23T15:59:21.982676Z",
     "shell.execute_reply": "2024-04-23T15:59:21.982008Z"
    },
    "papermill": {
     "duration": 0.022795,
     "end_time": "2024-04-23T15:59:21.984480",
     "exception": false,
     "start_time": "2024-04-23T15:59:21.961685",
     "status": "completed"
    },
    "tags": []
   },
   "outputs": [],
   "source": [
    "from keras.optimizers import RMSprop\n",
    "optimizer = RMSprop(learning_rate=0.001, rho=0.9, epsilon=1e-08)\n",
    "model.compile(optimizer=optimizer, loss=\"categorical_crossentropy\", metrics=[\"accuracy\"])\n"
   ]
  },
  {
   "cell_type": "code",
   "execution_count": 16,
   "id": "4d8355bc",
   "metadata": {
    "execution": {
     "iopub.execute_input": "2024-04-23T15:59:22.000782Z",
     "iopub.status.busy": "2024-04-23T15:59:22.000483Z",
     "iopub.status.idle": "2024-04-23T15:59:22.004851Z",
     "shell.execute_reply": "2024-04-23T15:59:22.004072Z"
    },
    "papermill": {
     "duration": 0.014731,
     "end_time": "2024-04-23T15:59:22.006841",
     "exception": false,
     "start_time": "2024-04-23T15:59:21.992110",
     "status": "completed"
    },
    "tags": []
   },
   "outputs": [],
   "source": [
    "learning_rate_reduction = ReduceLROnPlateau(monitor='val_acc', \n",
    "                                            patience=3, \n",
    "                                            verbose=1, \n",
    "                                            factor=0.5, \n",
    "                                            min_lr=0.00001)"
   ]
  },
  {
   "cell_type": "code",
   "execution_count": 17,
   "id": "1f2a5b9e",
   "metadata": {
    "execution": {
     "iopub.execute_input": "2024-04-23T15:59:22.023260Z",
     "iopub.status.busy": "2024-04-23T15:59:22.022741Z",
     "iopub.status.idle": "2024-04-23T15:59:22.026321Z",
     "shell.execute_reply": "2024-04-23T15:59:22.025512Z"
    },
    "papermill": {
     "duration": 0.013693,
     "end_time": "2024-04-23T15:59:22.028181",
     "exception": false,
     "start_time": "2024-04-23T15:59:22.014488",
     "status": "completed"
    },
    "tags": []
   },
   "outputs": [],
   "source": [
    "epochs = 10\n",
    "batch_size = 86"
   ]
  },
  {
   "cell_type": "code",
   "execution_count": 18,
   "id": "94b70c21",
   "metadata": {
    "execution": {
     "iopub.execute_input": "2024-04-23T15:59:22.044795Z",
     "iopub.status.busy": "2024-04-23T15:59:22.044199Z",
     "iopub.status.idle": "2024-04-23T15:59:22.135894Z",
     "shell.execute_reply": "2024-04-23T15:59:22.135112Z"
    },
    "papermill": {
     "duration": 0.102471,
     "end_time": "2024-04-23T15:59:22.138252",
     "exception": false,
     "start_time": "2024-04-23T15:59:22.035781",
     "status": "completed"
    },
    "tags": []
   },
   "outputs": [],
   "source": [
    "datagen = ImageDataGenerator(\n",
    "        featurewise_center=False,  # set input mean to 0 over the dataset\n",
    "        samplewise_center=False,  # set each sample mean to 0\n",
    "        featurewise_std_normalization=False,  # divide inputs by std of the dataset\n",
    "        samplewise_std_normalization=False,  # divide each input by its std\n",
    "        zca_whitening=False,  # apply ZCA whitening\n",
    "        rotation_range=10,  # randomly rotate images in the range \n",
    "        zoom_range = 0.1, # Randomly zoom image \n",
    "        width_shift_range=0.1,  # randomly shift images horizontally \n",
    "        height_shift_range=0.1,  # randomly shift images vertically \n",
    "        horizontal_flip=False,  # randomly flip images\n",
    "        vertical_flip=False)  # randomly flip images\n",
    "\n",
    "\n",
    "datagen.fit(X_train)"
   ]
  },
  {
   "cell_type": "code",
   "execution_count": 19,
   "id": "6eb0e515",
   "metadata": {
    "execution": {
     "iopub.execute_input": "2024-04-23T15:59:22.154966Z",
     "iopub.status.busy": "2024-04-23T15:59:22.154456Z",
     "iopub.status.idle": "2024-04-23T16:00:45.499260Z",
     "shell.execute_reply": "2024-04-23T16:00:45.498455Z"
    },
    "papermill": {
     "duration": 83.355402,
     "end_time": "2024-04-23T16:00:45.501410",
     "exception": false,
     "start_time": "2024-04-23T15:59:22.146008",
     "status": "completed"
    },
    "tags": []
   },
   "outputs": [
    {
     "name": "stdout",
     "output_type": "stream",
     "text": [
      "Epoch 1/10\n"
     ]
    },
    {
     "name": "stderr",
     "output_type": "stream",
     "text": [
      "/opt/conda/lib/python3.10/site-packages/keras/src/trainers/data_adapters/py_dataset_adapter.py:122: UserWarning: Your `PyDataset` class should call `super().__init__(**kwargs)` in its constructor. `**kwargs` can include `workers`, `use_multiprocessing`, `max_queue_size`. Do not pass these arguments to `fit()`, as they will be ignored.\n",
      "  self._warn_if_super_not_called()\n",
      "WARNING: All log messages before absl::InitializeLog() is called are written to STDERR\n",
      "I0000 00:00:1713887971.642939      75 device_compiler.h:186] Compiled cluster using XLA!  This line is logged at most once for the lifetime of the process.\n",
      "W0000 00:00:1713887971.661054      75 graph_launch.cc:671] Fallback to op-by-op mode because memset node breaks graph update\n",
      "W0000 00:00:1713887981.221279      76 graph_launch.cc:671] Fallback to op-by-op mode because memset node breaks graph update\n",
      "W0000 00:00:1713887991.436112      76 graph_launch.cc:671] Fallback to op-by-op mode because memset node breaks graph update\n"
     ]
    },
    {
     "name": "stdout",
     "output_type": "stream",
     "text": [
      "439/439 - 30s - 69ms/step - accuracy: 0.8607 - loss: 0.4292 - val_accuracy: 0.9774 - val_loss: 0.0719 - learning_rate: 0.0010\n",
      "Epoch 2/10\n"
     ]
    },
    {
     "name": "stderr",
     "output_type": "stream",
     "text": [
      "W0000 00:00:1713887992.472317      74 graph_launch.cc:671] Fallback to op-by-op mode because memset node breaks graph update\n",
      "/opt/conda/lib/python3.10/site-packages/keras/src/callbacks/callback_list.py:97: UserWarning: Learning rate reduction is conditioned on metric `val_acc` which is not available. Available metrics are: accuracy,loss,val_accuracy,val_loss,learning_rate.\n",
      "  callback.on_epoch_end(epoch, logs)\n",
      "/opt/conda/lib/python3.10/contextlib.py:153: UserWarning: Your input ran out of data; interrupting training. Make sure that your dataset or generator can generate at least `steps_per_epoch * epochs` batches. You may need to use the `.repeat()` function when building your dataset.\n",
      "  self.gen.throw(typ, value, traceback)\n"
     ]
    },
    {
     "name": "stdout",
     "output_type": "stream",
     "text": [
      "439/439 - 0s - 543us/step - accuracy: 0.9419 - loss: 0.1284 - val_accuracy: 0.9779 - val_loss: 0.0756 - learning_rate: 0.0010\n",
      "Epoch 3/10\n",
      "439/439 - 13s - 29ms/step - accuracy: 0.9616 - loss: 0.1289 - val_accuracy: 0.9850 - val_loss: 0.0459 - learning_rate: 0.0010\n",
      "Epoch 4/10\n",
      "439/439 - 0s - 631us/step - accuracy: 0.9767 - loss: 0.1582 - val_accuracy: 0.9855 - val_loss: 0.0473 - learning_rate: 0.0010\n",
      "Epoch 5/10\n",
      "439/439 - 13s - 29ms/step - accuracy: 0.9724 - loss: 0.0956 - val_accuracy: 0.9860 - val_loss: 0.0445 - learning_rate: 0.0010\n",
      "Epoch 6/10\n",
      "439/439 - 0s - 625us/step - accuracy: 0.9767 - loss: 0.1065 - val_accuracy: 0.9876 - val_loss: 0.0419 - learning_rate: 0.0010\n",
      "Epoch 7/10\n",
      "439/439 - 13s - 29ms/step - accuracy: 0.9761 - loss: 0.0789 - val_accuracy: 0.9907 - val_loss: 0.0337 - learning_rate: 0.0010\n",
      "Epoch 8/10\n",
      "439/439 - 0s - 622us/step - accuracy: 0.9884 - loss: 0.0268 - val_accuracy: 0.9907 - val_loss: 0.0375 - learning_rate: 0.0010\n",
      "Epoch 9/10\n",
      "439/439 - 13s - 30ms/step - accuracy: 0.9785 - loss: 0.0738 - val_accuracy: 0.9907 - val_loss: 0.0287 - learning_rate: 0.0010\n",
      "Epoch 10/10\n",
      "439/439 - 0s - 626us/step - accuracy: 1.0000 - loss: 0.0080 - val_accuracy: 0.9905 - val_loss: 0.0293 - learning_rate: 0.0010\n"
     ]
    }
   ],
   "source": [
    "history = model.fit(datagen.flow(X_train, Y_train, batch_size=batch_size),\n",
    "                    epochs=epochs,\n",
    "                    validation_data=(X_val, Y_val),\n",
    "                    verbose=2,\n",
    "                    steps_per_epoch=X_train.shape[0] // batch_size,\n",
    "                    callbacks=[learning_rate_reduction])"
   ]
  },
  {
   "cell_type": "code",
   "execution_count": 20,
   "id": "46c56070",
   "metadata": {
    "execution": {
     "iopub.execute_input": "2024-04-23T16:00:45.522056Z",
     "iopub.status.busy": "2024-04-23T16:00:45.521747Z",
     "iopub.status.idle": "2024-04-23T16:00:47.229857Z",
     "shell.execute_reply": "2024-04-23T16:00:47.228935Z"
    },
    "papermill": {
     "duration": 1.72091,
     "end_time": "2024-04-23T16:00:47.232137",
     "exception": false,
     "start_time": "2024-04-23T16:00:45.511227",
     "status": "completed"
    },
    "tags": []
   },
   "outputs": [
    {
     "name": "stdout",
     "output_type": "stream",
     "text": [
      "\u001b[1m116/132\u001b[0m \u001b[32m━━━━━━━━━━━━━━━━━\u001b[0m\u001b[37m━━━\u001b[0m \u001b[1m0s\u001b[0m 1ms/step"
     ]
    },
    {
     "name": "stderr",
     "output_type": "stream",
     "text": [
      "W0000 00:00:1713888045.937757      73 graph_launch.cc:671] Fallback to op-by-op mode because memset node breaks graph update\n"
     ]
    },
    {
     "name": "stdout",
     "output_type": "stream",
     "text": [
      "\u001b[1m132/132\u001b[0m \u001b[32m━━━━━━━━━━━━━━━━━━━━\u001b[0m\u001b[37m\u001b[0m \u001b[1m1s\u001b[0m 4ms/step\n"
     ]
    },
    {
     "name": "stderr",
     "output_type": "stream",
     "text": [
      "W0000 00:00:1713888046.455525      76 graph_launch.cc:671] Fallback to op-by-op mode because memset node breaks graph update\n"
     ]
    },
    {
     "data": {
      "image/png": "[encoded data removed]",
      "text/plain": [
       "<Figure size 640x480 with 2 Axes>"
      ]
     },
     "metadata": {},
     "output_type": "display_data"
    }
   ],
   "source": [
    "def plot_confusion_matrix(cm, classes,\n",
    "                          normalize=False,\n",
    "                          title='Confusion matrix',\n",
    "                          cmap=plt.cm.Blues):\n",
    "    \n",
    "    plt.imshow(cm, interpolation='nearest', cmap=cmap)\n",
    "    plt.title(title)\n",
    "    plt.colorbar()\n",
    "    tick_marks = np.arange(len(classes))\n",
    "    plt.xticks(tick_marks, classes, rotation=45)\n",
    "    plt.yticks(tick_marks, classes)\n",
    "\n",
    "    if normalize:\n",
    "        cm = cm.astype('float') / cm.sum(axis=1)[:, np.newaxis]\n",
    "\n",
    "    thresh = cm.max() / 2.\n",
    "    for i, j in itertools.product(range(cm.shape[0]), range(cm.shape[1])):\n",
    "         plt.text(j, i, cm[i, j],\n",
    "                 horizontalalignment=\"center\",\n",
    "                 color=\"white\" if cm[i, j] > thresh else \"black\")\n",
    "\n",
    "    plt.tight_layout()\n",
    "    plt.ylabel('True label')\n",
    "    plt.xlabel('Predicted label')\n",
    "\n",
    "\n",
    "Y_pred = model.predict(X_val)\n",
    "\n",
    "Y_pred_classes = np.argmax(Y_pred,axis = 1) \n",
    "\n",
    "Y_true = np.argmax(Y_val,axis = 1) \n",
    "\n",
    "confusion_mtx = confusion_matrix(Y_true, Y_pred_classes) \n",
    "\n",
    "plot_confusion_matrix(confusion_mtx, classes = range(10)) "
   ]
  },
  {
   "cell_type": "code",
   "execution_count": null,
   "id": "040bfe18",
   "metadata": {
    "papermill": {
     "duration": 0.010577,
     "end_time": "2024-04-23T16:00:47.253829",
     "exception": false,
     "start_time": "2024-04-23T16:00:47.243252",
     "status": "completed"
    },
    "tags": []
   },
   "outputs": [],
   "source": []
  }
 ],
 "metadata": {
  "kaggle": {
   "accelerator": "nvidiaTeslaT4",
   "dataSources": [
    {
     "databundleVersionId": 861823,
     "sourceId": 3004,
     "sourceType": "competition"
    }
   ],
   "dockerImageVersionId": 30673,
   "isGpuEnabled": true,
   "isInternetEnabled": false,
   "language": "python",
   "sourceType": "notebook"
  },
  "kernelspec": {
   "display_name": "Python 3",
   "language": "python",
   "name": "python3"
  },
  "language_info": {
   "codemirror_mode": {
    "name": "ipython",
    "version": 3
   },
   "file_extension": ".py",
   "mimetype": "text/x-python",
   "name": "python",
   "nbconvert_exporter": "python",
   "pygments_lexer": "ipython3",
   "version": "3.10.13"
  },
  "papermill": {
   "default_parameters": {},
   "duration": 115.431412,
   "end_time": "2024-04-23T16:00:49.635168",
   "environment_variables": {},
   "exception": null,
   "input_path": "__notebook__.ipynb",
   "output_path": "__notebook__.ipynb",
   "parameters": {},
   "start_time": "2024-04-23T15:58:54.203756",
   "version": "2.5.0"
  }
 },
 "nbformat": 4,
 "nbformat_minor": 5
}
